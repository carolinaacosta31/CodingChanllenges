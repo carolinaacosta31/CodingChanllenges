{
  "nbformat": 4,
  "nbformat_minor": 0,
  "metadata": {
    "colab": {
      "name": "PrintX.ipynb",
      "provenance": [],
      "authorship_tag": "ABX9TyMG3ug26NyvyaU1hLvZnOw5",
      "include_colab_link": true
    },
    "kernelspec": {
      "name": "python3",
      "display_name": "Python 3"
    }
  },
  "cells": [
    {
      "cell_type": "markdown",
      "metadata": {
        "id": "view-in-github",
        "colab_type": "text"
      },
      "source": [
        "<a href=\"https://colab.research.google.com/github/carolinaacosta31/CodingChanllenges/blob/master/SomeExercises/PrintX.ipynb\" target=\"_parent\"><img src=\"https://colab.research.google.com/assets/colab-badge.svg\" alt=\"Open In Colab\"/></a>"
      ]
    },
    {
      "cell_type": "code",
      "metadata": {
        "id": "D2I4AwCWzYP8"
      },
      "source": [
        "n = 10"
      ],
      "execution_count": 13,
      "outputs": []
    },
    {
      "cell_type": "code",
      "metadata": {
        "colab": {
          "base_uri": "https://localhost:8080/"
        },
        "id": "AG4Ehl0EzUBA",
        "outputId": "50243afc-ebca-4ac5-cd73-5641a1312eb6"
      },
      "source": [
        "for i in range(n):\n",
        "  sec = ''\n",
        "  for j in range(n):\n",
        "    if i==j or i+j==n-1:\n",
        "      sec = sec+'x'\n",
        "    else:\n",
        "      sec = sec+'_'\n",
        "  print(sec)\n",
        "    \n"
      ],
      "execution_count": 14,
      "outputs": [
        {
          "output_type": "stream",
          "text": [
            "x________x\n",
            "_x______x_\n",
            "__x____x__\n",
            "___x__x___\n",
            "____xx____\n",
            "____xx____\n",
            "___x__x___\n",
            "__x____x__\n",
            "_x______x_\n",
            "x________x\n"
          ],
          "name": "stdout"
        }
      ]
    }
  ]
}