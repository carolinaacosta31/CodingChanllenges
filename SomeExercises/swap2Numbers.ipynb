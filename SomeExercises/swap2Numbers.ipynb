{
  "nbformat": 4,
  "nbformat_minor": 0,
  "metadata": {
    "colab": {
      "name": "swap2Numbers.ipynb",
      "provenance": [],
      "authorship_tag": "ABX9TyMu9hRX8MzDsDEAJvcmcC4+",
      "include_colab_link": true
    },
    "kernelspec": {
      "name": "python3",
      "display_name": "Python 3"
    }
  },
  "cells": [
    {
      "cell_type": "markdown",
      "metadata": {
        "id": "view-in-github",
        "colab_type": "text"
      },
      "source": [
        "<a href=\"https://colab.research.google.com/github/carolinaacosta31/CodingChanllenges/blob/master/SomeExercises/swap2Numbers.ipynb\" target=\"_parent\"><img src=\"https://colab.research.google.com/assets/colab-badge.svg\" alt=\"Open In Colab\"/></a>"
      ]
    },
    {
      "cell_type": "code",
      "metadata": {
        "colab": {
          "base_uri": "https://localhost:8080/"
        },
        "id": "9FZL_6_5PmLA",
        "outputId": "a4a5ccee-8ec2-4837-92ed-ce66505b4cca"
      },
      "source": [
        "num1 = input('Enter num1 value: ')\n",
        "num2 = input('Enter num2 value: ')\n",
        "\n",
        "print('Value of num1 before swapping: ', num1)\n",
        "print('Value of num2 before swapping: ', num2)\n",
        "\n",
        "num1, num2 = num2, num1\n",
        "\n",
        "print('Value of num1 after swapping: ', num1)\n",
        "print('Value of num2 after swapping: ', num2)\n"
      ],
      "execution_count": 2,
      "outputs": [
        {
          "output_type": "stream",
          "text": [
            "Enter num1 value: 50\n",
            "Enter num2 value: 20\n",
            "Value of num1 before swapping:  50\n",
            "Value of num2 before swapping:  20\n",
            "Value of num1 after swapping:  20\n",
            "Value of num2 after swapping:  50\n"
          ],
          "name": "stdout"
        }
      ]
    },
    {
      "cell_type": "code",
      "metadata": {
        "id": "cQ6FzdrGRZoa"
      },
      "source": [
        ""
      ],
      "execution_count": null,
      "outputs": []
    }
  ]
}