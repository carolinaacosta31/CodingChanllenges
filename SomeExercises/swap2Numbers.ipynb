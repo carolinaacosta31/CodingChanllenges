num1 = input('Enter num1 value: ')
num2 = input('Enter num2 value: ')

print('Value of num1 before swapping: ')
print('Value of num2 before swapping: ')

num1, num2 = num2, num1

print('Value of num1 after swapping: ')
print('Value of num2 after swapping: ')
