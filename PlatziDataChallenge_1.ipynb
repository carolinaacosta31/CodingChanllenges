{
  "nbformat": 4,
  "nbformat_minor": 0,
  "metadata": {
    "colab": {
      "name": "PlatziDataChallenge#1.ipynb",
      "provenance": [],
      "authorship_tag": "ABX9TyM5fQVq704ZbHd/otyYsd0u",
      "include_colab_link": true
    },
    "kernelspec": {
      "name": "python3",
      "display_name": "Python 3"
    }
  },
  "cells": [
    {
      "cell_type": "markdown",
      "metadata": {
        "id": "view-in-github",
        "colab_type": "text"
      },
      "source": [
        "<a href=\"https://colab.research.google.com/github/carolinaacosta31/CodingChanllenges/blob/master/PlatziDataChallenge_1.ipynb\" target=\"_parent\"><img src=\"https://colab.research.google.com/assets/colab-badge.svg\" alt=\"Open In Colab\"/></a>"
      ]
    },
    {
      "cell_type": "markdown",
      "metadata": {
        "id": "ofJdnMBA0tKe",
        "colab_type": "text"
      },
      "source": [
        "## PlatziDataChallenge #1"
      ]
    },
    {
      "cell_type": "code",
      "metadata": {
        "id": "xtbsmuiKAu8z",
        "colab_type": "code",
        "colab": {}
      },
      "source": [
        "import pandas as pd\n",
        "import numpy as np\n",
        "import matplotlib.pyplot as plt"
      ],
      "execution_count": 1,
      "outputs": []
    },
    {
      "cell_type": "code",
      "metadata": {
        "id": "64lFplev-aB4",
        "colab_type": "code",
        "colab": {
          "base_uri": "https://localhost:8080/",
          "height": 34
        },
        "outputId": "cd477f04-e5f4-4273-afb5-fa8e05c2767e"
      },
      "source": [
        "from google.colab import drive\n",
        "drive.mount('/content/drive/')"
      ],
      "execution_count": 2,
      "outputs": [
        {
          "output_type": "stream",
          "text": [
            "Mounted at /content/drive/\n"
          ],
          "name": "stdout"
        }
      ]
    },
    {
      "cell_type": "code",
      "metadata": {
        "id": "D0GxMNFfJC7N",
        "colab_type": "code",
        "colab": {
          "base_uri": "https://localhost:8080/",
          "height": 139
        },
        "outputId": "972ba15f-b6a6-4338-9161-3aee8d73eb5d"
      },
      "source": [
        "%cd '/content/drive/My Drive/Colab Notebooks/FundamentosEstadisticaPython'\n",
        "!ls"
      ],
      "execution_count": 3,
      "outputs": [
        {
          "output_type": "stream",
          "text": [
            "/content/drive/My Drive/Colab Notebooks/FundamentosEstadisticaPython\n",
            "bicicletas-compartidas.csv   sesion-10.ipynb  sesion-18.ipynb  sesion-5.ipynb\n",
            "compensacion-ejecutivos.sav  sesion-12.ipynb  sesion-19.ipynb  sesion-6.ipynb\n",
            "gender_submission.csv\t     sesion-13.ipynb  sesion-20.ipynb  sesion-8.ipynb\n",
            "iris-data.csv\t\t     sesion-15.ipynb  sesion-21.ipynb  sesion-9.ipynb\n",
            "peliculas.png\t\t     sesion-16.ipynb  sesion-22.ipynb  test.csv\n",
            "rating-peliculas.csv\t     sesion-17.ipynb  sesion-4.ipynb   train.csv\n"
          ],
          "name": "stdout"
        }
      ]
    },
    {
      "cell_type": "markdown",
      "metadata": {
        "id": "GBu6ikY5rHM-",
        "colab_type": "text"
      },
      "source": [
        "## 1. Loading and getting some insights about the three files: gender_submission.csv, train.csv and test.csv"
      ]
    },
    {
      "cell_type": "code",
      "metadata": {
        "id": "n4bs-f6v2AUy",
        "colab_type": "code",
        "colab": {}
      },
      "source": [
        "file1 = 'gender_submission.csv'\n",
        "df_submission = pd.read_csv(file1)\n",
        "df_submission.info()"
      ],
      "execution_count": null,
      "outputs": []
    },
    {
      "cell_type": "code",
      "metadata": {
        "id": "vNCluXpjC7nK",
        "colab_type": "code",
        "colab": {}
      },
      "source": [
        "file2 = 'train.csv'\n",
        "df_train = pd.read_csv(file2)\n",
        "df_train.info()"
      ],
      "execution_count": null,
      "outputs": []
    },
    {
      "cell_type": "code",
      "metadata": {
        "id": "QRg-ziGeBSlL",
        "colab_type": "code",
        "colab": {}
      },
      "source": [
        "file3 = 'test.csv'\n",
        "df_test = pd.read_csv(file3)\n",
        "df_test.info()"
      ],
      "execution_count": null,
      "outputs": []
    },
    {
      "cell_type": "markdown",
      "metadata": {
        "id": "Ie6-TfvOqy71",
        "colab_type": "text"
      },
      "source": [
        "## 2. Joining the three files accordingly"
      ]
    },
    {
      "cell_type": "code",
      "metadata": {
        "id": "UdDP4UWnECCb",
        "colab_type": "code",
        "colab": {}
      },
      "source": [
        "df_test_tot = pd.merge(df_submission, df_test, how = 'outer', on= 'PassengerId')\n",
        "df_test_tot.info()"
      ],
      "execution_count": null,
      "outputs": []
    },
    {
      "cell_type": "code",
      "metadata": {
        "id": "_hPVQQz0FQoY",
        "colab_type": "code",
        "colab": {}
      },
      "source": [
        "titanic_total = df_train.append(df_test)\n",
        "titanic_total.info()"
      ],
      "execution_count": null,
      "outputs": []
    },
    {
      "cell_type": "markdown",
      "metadata": {
        "id": "eC-bOdwe6DG5",
        "colab_type": "text"
      },
      "source": [
        "## 3. How many people were traveling on the Titanic? \n",
        "\n"
      ]
    },
    {
      "cell_type": "code",
      "metadata": {
        "id": "s7s9C3tBGk49",
        "colab_type": "code",
        "colab": {
          "base_uri": "https://localhost:8080/",
          "height": 34
        },
        "outputId": "61176541-cd0c-47b5-b2ee-fc893fec5068"
      },
      "source": [
        "titanic_total.shape"
      ],
      "execution_count": 9,
      "outputs": [
        {
          "output_type": "execute_result",
          "data": {
            "text/plain": [
              "(1309, 12)"
            ]
          },
          "metadata": {
            "tags": []
          },
          "execution_count": 9
        }
      ]
    },
    {
      "cell_type": "markdown",
      "metadata": {
        "id": "bAza1kEH7Dc7",
        "colab_type": "text"
      },
      "source": [
        "## 4. How many women and men survived?"
      ]
    },
    {
      "cell_type": "code",
      "metadata": {
        "id": "Wgeilm_xsMcz",
        "colab_type": "code",
        "colab": {
          "base_uri": "https://localhost:8080/",
          "height": 69
        },
        "outputId": "b2590c5b-4d74-4cc4-eb73-1cd23862c1b4"
      },
      "source": [
        "titanic_total[titanic_total['Survived']==1]['Sex'].value_counts()"
      ],
      "execution_count": 41,
      "outputs": [
        {
          "output_type": "execute_result",
          "data": {
            "text/plain": [
              "female    233\n",
              "male      109\n",
              "Name: Sex, dtype: int64"
            ]
          },
          "metadata": {
            "tags": []
          },
          "execution_count": 41
        }
      ]
    },
    {
      "cell_type": "markdown",
      "metadata": {
        "id": "_LUiy0pDft_N",
        "colab_type": "text"
      },
      "source": [
        "## 5. Top 10 of ages that survived "
      ]
    },
    {
      "cell_type": "code",
      "metadata": {
        "id": "8B9Q3vNVaaSn",
        "colab_type": "code",
        "colab": {
          "base_uri": "https://localhost:8080/",
          "height": 208
        },
        "outputId": "3aacc761-1c0f-4d87-8fe0-09682d60d00b"
      },
      "source": [
        "titanic_total[titanic_total['Survived']==1]['Age'].value_counts().head(10)"
      ],
      "execution_count": 14,
      "outputs": [
        {
          "output_type": "execute_result",
          "data": {
            "text/plain": [
              "24.0    15\n",
              "36.0    11\n",
              "35.0    11\n",
              "27.0    11\n",
              "22.0    11\n",
              "30.0    10\n",
              "19.0     9\n",
              "32.0     9\n",
              "18.0     9\n",
              "29.0     8\n",
              "Name: Age, dtype: int64"
            ]
          },
          "metadata": {
            "tags": []
          },
          "execution_count": 14
        }
      ]
    },
    {
      "cell_type": "markdown",
      "metadata": {
        "id": "DopJLHvFgoPg",
        "colab_type": "text"
      },
      "source": [
        "## 6. Top 10 of ages that don't survived"
      ]
    },
    {
      "cell_type": "code",
      "metadata": {
        "id": "S76yD3a_f9go",
        "colab_type": "code",
        "colab": {
          "base_uri": "https://localhost:8080/",
          "height": 208
        },
        "outputId": "631808de-9b3f-4ae1-ce37-9f4a03ff0d04"
      },
      "source": [
        "titanic_total[titanic_total['Survived']==0]['Age'].value_counts().head(10)"
      ],
      "execution_count": 13,
      "outputs": [
        {
          "output_type": "execute_result",
          "data": {
            "text/plain": [
              "21.0    19\n",
              "28.0    18\n",
              "25.0    17\n",
              "18.0    17\n",
              "22.0    16\n",
              "19.0    16\n",
              "30.0    15\n",
              "24.0    15\n",
              "29.0    12\n",
              "20.0    12\n",
              "Name: Age, dtype: int64"
            ]
          },
          "metadata": {
            "tags": []
          },
          "execution_count": 13
        }
      ]
    },
    {
      "cell_type": "markdown",
      "metadata": {
        "id": "7YdKBNCwg_g9",
        "colab_type": "text"
      },
      "source": [
        "## 7. Which personal titles were on the Titanic? Example: Captain, Mrs. Miss., etc. (Using regular expressions) "
      ]
    },
    {
      "cell_type": "code",
      "metadata": {
        "id": "9ZbdMhAU9tFH",
        "colab_type": "code",
        "colab": {}
      },
      "source": [
        "titanic_total['Name'].iloc[1]"
      ],
      "execution_count": null,
      "outputs": []
    },
    {
      "cell_type": "code",
      "metadata": {
        "id": "L_mf1MgGmFRd",
        "colab_type": "code",
        "colab": {}
      },
      "source": [
        "titanic_total['titles'] = titanic_total['Name'].str.extract(', (\\w+\\.)')\n",
        "titanic_total['titles']"
      ],
      "execution_count": null,
      "outputs": []
    },
    {
      "cell_type": "code",
      "metadata": {
        "id": "a4D2FaQLBn4h",
        "colab_type": "code",
        "colab": {
          "base_uri": "https://localhost:8080/",
          "height": 347
        },
        "outputId": "17eefdef-3b20-4c00-a245-3206736f1c87"
      },
      "source": [
        "titanic_total.groupby('titles')['titles'].count().sort_values(ascending=False)"
      ],
      "execution_count": 24,
      "outputs": [
        {
          "output_type": "execute_result",
          "data": {
            "text/plain": [
              "titles\n",
              "Mr.          757\n",
              "Miss.        260\n",
              "Mrs.         197\n",
              "Master.       61\n",
              "Dr.            8\n",
              "Rev.           8\n",
              "Col.           4\n",
              "Ms.            2\n",
              "Mlle.          2\n",
              "Major.         2\n",
              "Don.           1\n",
              "Dona.          1\n",
              "Sir.           1\n",
              "Jonkheer.      1\n",
              "Lady.          1\n",
              "Mme.           1\n",
              "Capt.          1\n",
              "Name: titles, dtype: int64"
            ]
          },
          "metadata": {
            "tags": []
          },
          "execution_count": 24
        }
      ]
    },
    {
      "cell_type": "markdown",
      "metadata": {
        "id": "qQWxQsyDiYME",
        "colab_type": "text"
      },
      "source": [
        "## 8. How much was the total sum of the tickets prices in USD of the Titanic? \n",
        "According to this [website](https://autumnmccordckp.weebly.com/tickets-and-accomodations.html) the price of a First-Class ticket of the Titanic were about £870 or $4350. \\\\\n",
        "So, we can say that the currency conversion in 1912 was about 5 dollars per pound."
      ]
    },
    {
      "cell_type": "code",
      "metadata": {
        "id": "iz5dGIpciwIp",
        "colab_type": "code",
        "colab": {
          "base_uri": "https://localhost:8080/",
          "height": 34
        },
        "outputId": "343ebbf1-6210-49a2-8c15-acdf94a8c8a4"
      },
      "source": [
        "np.around(titanic_total['Fare'].sum()*5,decimals=2)"
      ],
      "execution_count": 23,
      "outputs": [
        {
          "output_type": "execute_result",
          "data": {
            "text/plain": [
              "217752.43"
            ]
          },
          "metadata": {
            "tags": []
          },
          "execution_count": 23
        }
      ]
    },
    {
      "cell_type": "code",
      "metadata": {
        "id": "kbvmH5oqp704",
        "colab_type": "code",
        "colab": {}
      },
      "source": [
        ""
      ],
      "execution_count": null,
      "outputs": []
    }
  ]
}