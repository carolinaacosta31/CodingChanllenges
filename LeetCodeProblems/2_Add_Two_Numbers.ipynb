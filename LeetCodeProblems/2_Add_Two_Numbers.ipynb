{
  "nbformat": 4,
  "nbformat_minor": 0,
  "metadata": {
    "colab": {
      "provenance": [],
      "authorship_tag": "ABX9TyMlOyBA79s5RjtCnjWgRS/L",
      "include_colab_link": true
    },
    "kernelspec": {
      "name": "python3",
      "display_name": "Python 3"
    },
    "language_info": {
      "name": "python"
    }
  },
  "cells": [
    {
      "cell_type": "markdown",
      "metadata": {
        "id": "view-in-github",
        "colab_type": "text"
      },
      "source": [
        "<a href=\"https://colab.research.google.com/github/carolinaacosta31/CodingChanllenges/blob/master/LeetCodeProblems/2_Add_Two_Numbers.ipynb\" target=\"_parent\"><img src=\"https://colab.research.google.com/assets/colab-badge.svg\" alt=\"Open In Colab\"/></a>"
      ]
    },
    {
      "cell_type": "markdown",
      "source": [
        "# Linked List Data structure"
      ],
      "metadata": {
        "id": "Qfgr4Kg76q-w"
      }
    },
    {
      "cell_type": "code",
      "source": [
        "class Node(object):\n",
        "\n",
        "    def __init__ (self, d, n = None):\n",
        "        self.data = d\n",
        "        self.next_node = n\n",
        "\n",
        "    def get_next (self):\n",
        "        return self.next_node\n",
        "\n",
        "    def set_next (self, n):\n",
        "        self.next_node = n\n",
        "\n",
        "    def get_data (self):\n",
        "        return self.data\n",
        "\n",
        "    def set_data (self, d):\n",
        "        self.data = d\n",
        "\n",
        "\n",
        "class LinkedList (object):\n",
        "\n",
        "    def __init__(self, r = None):\n",
        "        self.root = r\n",
        "        self.size = 0\n",
        "\n",
        "    def get_size (self):\n",
        "        return self.size\n",
        "\n",
        "    def add (self, d):\n",
        "        new_node = Node (d, self.root)\n",
        "        self.root = new_node\n",
        "        self.size += 1\n",
        "\n",
        "    def remove (self, d):\n",
        "        this_node = self.root\n",
        "        prev_node = None\n",
        "\n",
        "        while this_node:\n",
        "            if this_node.get_data() == d:\n",
        "                if prev_node:\n",
        "                    prev_node.set_next(this_node.get_next())\n",
        "                else:\n",
        "                    self.root = this_node.get_next()\n",
        "                self.size -= 1\n",
        "                return True\t\t# data removed\n",
        "            else:\n",
        "                prev_node = this_node\n",
        "                this_node = this_node.get_next()\n",
        "        return False  # data not found\n",
        "\n",
        "    def find (self, d):\n",
        "        this_node = self.root\n",
        "        while this_node:\n",
        "            if this_node.get_data() == d:\n",
        "                return d\n",
        "            else:\n",
        "                this_node = this_node.get_next()\n",
        "        return None"
      ],
      "metadata": {
        "id": "VwOUZ9ip6v7k"
      },
      "execution_count": 1,
      "outputs": []
    },
    {
      "cell_type": "markdown",
      "source": [
        "# 2. Add Two Numbers\n",
        "\n",
        "[Description](https://leetcode.com/problems/add-two-numbers/)"
      ],
      "metadata": {
        "id": "nsHux5kp61-M"
      }
    },
    {
      "cell_type": "code",
      "source": [
        "class ListNode(object):\n",
        "\n",
        "    def __init__ (self, val=0, next = None):\n",
        "        self.val = val\n",
        "        self.next = next"
      ],
      "metadata": {
        "id": "bNzGlD5K-kLu"
      },
      "execution_count": 11,
      "outputs": []
    },
    {
      "cell_type": "code",
      "source": [
        "l1 = ListNode(val = 2, next = ListNode(val = 4, next = ListNode(val = 3)))"
      ],
      "metadata": {
        "id": "-33MWS6DA43X"
      },
      "execution_count": 28,
      "outputs": []
    },
    {
      "cell_type": "code",
      "source": [
        "l2 = ListNode(val = 5, next = ListNode(val = 6, next = ListNode(val = 4)))"
      ],
      "metadata": {
        "id": "wMylios2BWh3"
      },
      "execution_count": 29,
      "outputs": []
    },
    {
      "cell_type": "code",
      "source": [
        "l1.next.next.val"
      ],
      "metadata": {
        "colab": {
          "base_uri": "https://localhost:8080/"
        },
        "id": "WumX-Y1JBNwg",
        "outputId": "07b0ca4f-3d15-4a2d-e32c-e3e195e6a0ce"
      },
      "execution_count": 8,
      "outputs": [
        {
          "output_type": "execute_result",
          "data": {
            "text/plain": [
              "3"
            ]
          },
          "metadata": {},
          "execution_count": 8
        }
      ]
    },
    {
      "cell_type": "code",
      "source": [
        "# Definition for singly-linked list.\n",
        "# class ListNode:\n",
        "#     def __init__(self, val=0, next=None):\n",
        "#         self.val = val\n",
        "#         self.next = next\n",
        "class Solution:\n",
        "    def addTwoNumbers(self, l1, l2):\n",
        "\n",
        "        answer = ListNode((l1.val + l2.val) % 10)\n",
        "        current = answer      \n",
        "        carry = (l1.val + l2.val) // 10\n",
        "\n",
        "        while l1.next or l2.next:\n",
        "            l1 = l1.next\n",
        "            l2 = l2.next\n",
        "            if l1.val and l2.val:                \n",
        "                adition = (carry + l1.val + l2.val) % 10\n",
        "                current.next = ListNode(val = adition)\n",
        "                carry = (carry + l1.val + l2.val) // 10\n",
        "                current = current.next\n",
        "            elif l1.val:\n",
        "                adition = (carry + l1.val) % 10\n",
        "                current.next = ListNode(val = adition)\n",
        "                carry = (carry + l1.val) // 10\n",
        "                current = current.next\n",
        "            elif l2.val:\n",
        "                adition = (carry + l2.val) % 10\n",
        "                current.next = ListNode(val = adition)\n",
        "                carry = (carry + l2.val) // 10\n",
        "                current = current.next\n",
        "        if carry > 0:\n",
        "          current.next = ListNode(val = carry)\n",
        "          \n",
        "        return answer"
      ],
      "metadata": {
        "id": "SViWcI_59zQX"
      },
      "execution_count": 25,
      "outputs": []
    },
    {
      "cell_type": "code",
      "source": [
        "sol = Solution()\n",
        "answer = sol.addTwoNumbers(l1,l2)\n"
      ],
      "metadata": {
        "id": "l83j_OMiFWZ2"
      },
      "execution_count": 30,
      "outputs": []
    },
    {
      "cell_type": "code",
      "source": [
        "print(answer.val)"
      ],
      "metadata": {
        "colab": {
          "base_uri": "https://localhost:8080/"
        },
        "id": "SzY41hBnF2JV",
        "outputId": "6e4797f2-e47d-4df0-b65a-b689ae1925cd"
      },
      "execution_count": 22,
      "outputs": [
        {
          "output_type": "stream",
          "name": "stdout",
          "text": [
            "7\n"
          ]
        }
      ]
    },
    {
      "cell_type": "code",
      "source": [
        "print(answer.next.val)"
      ],
      "metadata": {
        "colab": {
          "base_uri": "https://localhost:8080/"
        },
        "id": "xJRY-voGF44T",
        "outputId": "9d8cef57-dd55-43d6-fefd-4dc8b021e534"
      },
      "execution_count": 23,
      "outputs": [
        {
          "output_type": "stream",
          "name": "stdout",
          "text": [
            "0\n"
          ]
        }
      ]
    },
    {
      "cell_type": "code",
      "source": [
        "print(answer.next.next.val)"
      ],
      "metadata": {
        "colab": {
          "base_uri": "https://localhost:8080/"
        },
        "id": "S82oTp9zF--Q",
        "outputId": "e83061fe-6a99-4863-dda6-1592e29c0fb4"
      },
      "execution_count": 31,
      "outputs": [
        {
          "output_type": "stream",
          "name": "stdout",
          "text": [
            "8\n"
          ]
        }
      ]
    },
    {
      "cell_type": "code",
      "source": [],
      "metadata": {
        "id": "uYAKZwOGGDQ2"
      },
      "execution_count": null,
      "outputs": []
    }
  ]
}