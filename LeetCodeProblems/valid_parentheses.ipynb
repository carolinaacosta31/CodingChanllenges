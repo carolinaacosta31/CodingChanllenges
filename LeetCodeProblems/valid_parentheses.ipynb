{
  "nbformat": 4,
  "nbformat_minor": 0,
  "metadata": {
    "colab": {
      "name": "valid-parentheses.ipynb",
      "provenance": [],
      "authorship_tag": "ABX9TyOTG0oITFT1hsV3ybESm0cN",
      "include_colab_link": true
    },
    "kernelspec": {
      "name": "python3",
      "display_name": "Python 3"
    }
  },
  "cells": [
    {
      "cell_type": "markdown",
      "metadata": {
        "id": "view-in-github",
        "colab_type": "text"
      },
      "source": [
        "<a href=\"https://colab.research.google.com/github/carolinaacosta31/CodingChanllenges/blob/master/LeetCodeProblems/valid_parentheses.ipynb\" target=\"_parent\"><img src=\"https://colab.research.google.com/assets/colab-badge.svg\" alt=\"Open In Colab\"/></a>"
      ]
    },
    {
      "cell_type": "markdown",
      "metadata": {
        "id": "-WKtlf2FbF7j",
        "colab_type": "text"
      },
      "source": [
        "\n",
        "## Valid Parentheses (Easy)\n",
        "\n",
        "Given a string s containing just the characters '(', ')', '{', '}', '[' and ']', determine if the input string is valid.\n",
        "\n",
        "An input string is valid if:\n",
        "\n",
        "* Open brackets must be closed by the same type of brackets.\n",
        "* Open brackets must be closed in the correct order.\n",
        "\n",
        "Constraints:\n",
        "\n",
        "* 1 <= s.length <= 104\n",
        "* s consists of parentheses only '()[]{}'.\n",
        "\n",
        "\n"
      ]
    },
    {
      "cell_type": "markdown",
      "metadata": {
        "id": "F-NYORETj_OA",
        "colab_type": "text"
      },
      "source": [
        "-----------------------"
      ]
    },
    {
      "cell_type": "markdown",
      "metadata": {
        "id": "4eeX7R01kBlf",
        "colab_type": "text"
      },
      "source": [
        "## My Solution"
      ]
    },
    {
      "cell_type": "code",
      "metadata": {
        "id": "bInrrB1D4jua",
        "colab_type": "code",
        "colab": {}
      },
      "source": [
        "class Solution:\n",
        "    def isValid(self, s: str) -> bool:\n",
        "        \n",
        "        par = {\n",
        "            '(': 1,\n",
        "            ')': 2,\n",
        "            '[': 3,\n",
        "            ']': 4,\n",
        "            '{': 5, \n",
        "            '}': 6          \n",
        "        }\n",
        "        \n",
        "                \n",
        "        i = 0\n",
        "        s = list(s)\n",
        "        while 0 <= i < len(s):\n",
        "            if par[s[i]] % 2 != 0:\n",
        "                i +=1\n",
        "                Accept = False\n",
        "            elif i>0 and par[s[i]] - par[s[i-1]] == 1:\n",
        "                s.pop(i)\n",
        "                s.pop(i-1)\n",
        "                if i == 1:\n",
        "                    i = i -1\n",
        "                else:\n",
        "                    i = i - 2 \n",
        "                Accept = True\n",
        "            else:\n",
        "                Accept = False\n",
        "                break\n",
        "        \n",
        "        return Accept\n",
        "            \n",
        "            "
      ],
      "execution_count": 1,
      "outputs": []
    },
    {
      "cell_type": "code",
      "metadata": {
        "id": "ZTx8ADkh4rpq",
        "colab_type": "code",
        "colab": {
          "base_uri": "https://localhost:8080/",
          "height": 104
        },
        "outputId": "1c6a169b-69c4-44e3-8c35-dfad3b9ae41a"
      },
      "source": [
        "s = Solution()\n",
        "Inputs = [\"()\", \"()[]{}\", \"(]\", \"([)]\", \"{[]}\"]\n",
        "for input in Inputs:\n",
        "  print(s.isValid(input))"
      ],
      "execution_count": 3,
      "outputs": [
        {
          "output_type": "stream",
          "text": [
            "True\n",
            "True\n",
            "False\n",
            "False\n",
            "True\n"
          ],
          "name": "stdout"
        }
      ]
    },
    {
      "cell_type": "markdown",
      "metadata": {
        "id": "HsnxuCqse52C",
        "colab_type": "text"
      },
      "source": [
        "## Success\n",
        "Details\n",
        "\n",
        "Runtime: 52 ms, faster than 12.01% of Python3 online submissions for Valid Parentheses.\n",
        "\n",
        "Memory Usage: 13.8 MB, less than 72.55% of Python3 online submissions for Valid Parentheses."
      ]
    },
    {
      "cell_type": "markdown",
      "metadata": {
        "id": "oE7yvjGrjSA2",
        "colab_type": "text"
      },
      "source": [
        "---------------"
      ]
    },
    {
      "cell_type": "markdown",
      "metadata": {
        "id": "QXxi74L0jUaV",
        "colab_type": "text"
      },
      "source": [
        "## The suggested solution"
      ]
    },
    {
      "cell_type": "code",
      "metadata": {
        "id": "70HmoqzYg_jg",
        "colab_type": "code",
        "colab": {}
      },
      "source": [
        "class Solution(object):\n",
        "    def isValid(self, s):\n",
        "        \"\"\"\n",
        "        :type s: str\n",
        "        :rtype: bool\n",
        "        \"\"\"\n",
        "\n",
        "        stack = []\n",
        "        mapping = {\")\": \"(\", \"}\": \"{\", \"]\": \"[\"}\n",
        "        for char in s:\n",
        "            if char in mapping:\n",
        "                top_element = stack.pop() if stack else '#'\n",
        "                if mapping[char] != top_element:\n",
        "                    return False\n",
        "            else:\n",
        "                stack.append(char)\n",
        "\n",
        "\n",
        "        return not stack"
      ],
      "execution_count": 6,
      "outputs": []
    },
    {
      "cell_type": "code",
      "metadata": {
        "id": "oiVTDrg7hbc9",
        "colab_type": "code",
        "colab": {
          "base_uri": "https://localhost:8080/",
          "height": 104
        },
        "outputId": "325d41a0-c7b4-4e27-d517-4d8347dfcf7e"
      },
      "source": [
        "s = Solution()\n",
        "Inputs = [\"()\", \"()[]{}\", \"(]\", \"([)]\", \"{[]}\"]\n",
        "for input in Inputs:\n",
        "  print(s.isValid(input))"
      ],
      "execution_count": 7,
      "outputs": [
        {
          "output_type": "stream",
          "text": [
            "True\n",
            "True\n",
            "False\n",
            "False\n",
            "True\n"
          ],
          "name": "stdout"
        }
      ]
    }
  ]
}