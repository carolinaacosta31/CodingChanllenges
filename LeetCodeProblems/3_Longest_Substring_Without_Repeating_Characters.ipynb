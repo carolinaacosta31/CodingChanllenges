{
  "nbformat": 4,
  "nbformat_minor": 0,
  "metadata": {
    "colab": {
      "provenance": [],
      "authorship_tag": "ABX9TyM9l21jXhXdrUUxmOUjwHQO",
      "include_colab_link": true
    },
    "kernelspec": {
      "name": "python3",
      "display_name": "Python 3"
    },
    "language_info": {
      "name": "python"
    }
  },
  "cells": [
    {
      "cell_type": "markdown",
      "metadata": {
        "id": "view-in-github",
        "colab_type": "text"
      },
      "source": [
        "<a href=\"https://colab.research.google.com/github/carolinaacosta31/CodingChanllenges/blob/master/LeetCodeProblems/3_Longest_Substring_Without_Repeating_Characters.ipynb\" target=\"_parent\"><img src=\"https://colab.research.google.com/assets/colab-badge.svg\" alt=\"Open In Colab\"/></a>"
      ]
    },
    {
      "cell_type": "markdown",
      "source": [
        "# 3. Longest Substring Without Repeating Characters\n",
        "\n",
        "[Description](https://leetcode.com/problems/longest-substring-without-repeating-characters/submissions/)"
      ],
      "metadata": {
        "id": "Ufv5F-iAMu5w"
      }
    },
    {
      "cell_type": "code",
      "execution_count": 11,
      "metadata": {
        "id": "9G9ZcPLEMrsU"
      },
      "outputs": [],
      "source": [
        "class Solution:\n",
        "    def lengthOfLongestSubstring(self, s: str) -> int:\n",
        "        ind = 0\n",
        "        length = 0\n",
        "        substring = {}\n",
        "        while ind < len(s):\n",
        "          if s[ind] in substring:            \n",
        "            ind = substring[s[ind]] + 1\n",
        "            substring = {}\n",
        "          else:\n",
        "            substring[s[ind]] = ind\n",
        "            ind += 1\n",
        "            current_length = len(substring)\n",
        "            if length < current_length:\n",
        "              length = current_length\n",
        "\n",
        "        return length\n"
      ]
    },
    {
      "cell_type": "code",
      "source": [
        "s = \"pwwkew\""
      ],
      "metadata": {
        "id": "2p6mTyuUPMLi"
      },
      "execution_count": 14,
      "outputs": []
    },
    {
      "cell_type": "code",
      "source": [
        "sol = Solution()\n",
        "print(sol.lengthOfLongestSubstring(s))"
      ],
      "metadata": {
        "colab": {
          "base_uri": "https://localhost:8080/"
        },
        "id": "derUzpjePNrx",
        "outputId": "447772ab-35a6-469e-baca-8b7e789d980f"
      },
      "execution_count": 15,
      "outputs": [
        {
          "output_type": "stream",
          "name": "stdout",
          "text": [
            "3\n"
          ]
        }
      ]
    }
  ]
}