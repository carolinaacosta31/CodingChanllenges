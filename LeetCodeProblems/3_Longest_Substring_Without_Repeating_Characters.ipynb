{
  "nbformat": 4,
  "nbformat_minor": 0,
  "metadata": {
    "colab": {
      "provenance": [],
      "authorship_tag": "ABX9TyPfNCuMDQlaEgyTJhuhqFwp",
      "include_colab_link": true
    },
    "kernelspec": {
      "name": "python3",
      "display_name": "Python 3"
    },
    "language_info": {
      "name": "python"
    }
  },
  "cells": [
    {
      "cell_type": "markdown",
      "metadata": {
        "id": "view-in-github",
        "colab_type": "text"
      },
      "source": [
        "<a href=\"https://colab.research.google.com/github/carolinaacosta31/CodingChanllenges/blob/master/LeetCodeProblems/3_Longest_Substring_Without_Repeating_Characters.ipynb\" target=\"_parent\"><img src=\"https://colab.research.google.com/assets/colab-badge.svg\" alt=\"Open In Colab\"/></a>"
      ]
    },
    {
      "cell_type": "markdown",
      "source": [
        "# 3. Longest Substring Without Repeating Characters\n",
        "\n",
        "[Description](https://leetcode.com/problems/longest-substring-without-repeating-characters/submissions/)"
      ],
      "metadata": {
        "id": "Ufv5F-iAMu5w"
      }
    },
    {
      "cell_type": "markdown",
      "source": [
        "## Second attempt\n",
        "\n",
        "Runtime: 53 ms, faster than 98.65% of Python3 online submissions for Longest Substring Without Repeating Characters.\n",
        "\n",
        "Memory Usage: 14 MB, less than 50.13% of Python3 online submissions for Longest Substring Without Repeating Characters.\n"
      ],
      "metadata": {
        "id": "MGz37AY2ntjr"
      }
    },
    {
      "cell_type": "code",
      "source": [
        "class Solution:\n",
        "    def lengthOfLongestSubstring(self, s: str) -> int:\n",
        "        length = 0\n",
        "        substring = {}\n",
        "        current_start = 0\n",
        "        current_length = 0\n",
        "        for ind, letter in enumerate(s):\n",
        "          if letter in substring and substring[letter] >= current_start:  \n",
        "            current_start = substring[letter] + 1            \n",
        "            current_length = ind - substring[letter]            \n",
        "          else:\n",
        "            current_length += 1\n",
        "          substring[letter] = ind\n",
        "          if length < current_length:\n",
        "            length = current_length\n",
        "\n",
        "        return length\n"
      ],
      "metadata": {
        "id": "jno3T2kwbEP9"
      },
      "execution_count": 15,
      "outputs": []
    },
    {
      "cell_type": "code",
      "source": [
        "s = \"abcabcbb\""
      ],
      "metadata": {
        "id": "2p6mTyuUPMLi"
      },
      "execution_count": 16,
      "outputs": []
    },
    {
      "cell_type": "code",
      "source": [
        "sol = Solution()\n",
        "print(sol.lengthOfLongestSubstring(s))"
      ],
      "metadata": {
        "colab": {
          "base_uri": "https://localhost:8080/"
        },
        "id": "derUzpjePNrx",
        "outputId": "fe3be57b-440c-4dce-ebb9-8d187284188a"
      },
      "execution_count": 17,
      "outputs": [
        {
          "output_type": "stream",
          "name": "stdout",
          "text": [
            "3\n"
          ]
        }
      ]
    },
    {
      "cell_type": "markdown",
      "source": [
        "## First attempt\n",
        "\n",
        "Runtime: 2111 ms, faster than 5.78% of Python3 online submissions for Longest Substring Without Repeating Characters.\n",
        "\n",
        "Memory Usage: 14 MB, less than 50.13% of Python3 online submissions for Longest Substring Without Repeating Characters."
      ],
      "metadata": {
        "id": "U-yKUkRTn0hs"
      }
    },
    {
      "cell_type": "code",
      "execution_count": null,
      "metadata": {
        "id": "9G9ZcPLEMrsU"
      },
      "outputs": [],
      "source": [
        "class Solution:\n",
        "    def lengthOfLongestSubstring(self, s: str) -> int:\n",
        "        ind = 0\n",
        "        length = 0\n",
        "        substring = {}\n",
        "        while ind < len(s):\n",
        "          if s[ind] in substring:            \n",
        "            ind = substring[s[ind]] + 1\n",
        "            substring = {}\n",
        "          else:\n",
        "            substring[s[ind]] = ind\n",
        "            ind += 1\n",
        "            current_length = len(substring)\n",
        "            if length < current_length:\n",
        "              length = current_length\n",
        "\n",
        "        return length\n"
      ]
    }
  ]
}