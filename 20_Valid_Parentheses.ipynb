{
  "nbformat": 4,
  "nbformat_minor": 0,
  "metadata": {
    "colab": {
      "provenance": [],
      "authorship_tag": "ABX9TyMQ9Sr3TTHz3hJJS3beP0ZX",
      "include_colab_link": true
    },
    "kernelspec": {
      "name": "python3",
      "display_name": "Python 3"
    },
    "language_info": {
      "name": "python"
    }
  },
  "cells": [
    {
      "cell_type": "markdown",
      "metadata": {
        "id": "view-in-github",
        "colab_type": "text"
      },
      "source": [
        "<a href=\"https://colab.research.google.com/github/carolinaacosta31/CodingChanllenges/blob/master/20_Valid_Parentheses.ipynb\" target=\"_parent\"><img src=\"https://colab.research.google.com/assets/colab-badge.svg\" alt=\"Open In Colab\"/></a>"
      ]
    },
    {
      "cell_type": "markdown",
      "source": [
        "# 20. Valid Parentheses\n",
        "\n",
        "[Description](https://leetcode.com/problems/valid-parentheses/)"
      ],
      "metadata": {
        "id": "wbgQEspAg84R"
      }
    },
    {
      "cell_type": "code",
      "execution_count": 30,
      "metadata": {
        "id": "aZEGs81gg2RE"
      },
      "outputs": [],
      "source": [
        "class Solution:\n",
        "    def isValid(self, s: str) -> bool:\n",
        "        \n",
        "        pairs = {'}':'{', ')':'(',']':'['}\n",
        "        valid = []\n",
        "\n",
        "        for symbol in s:\n",
        "          if symbol in pairs.keys() and valid:\n",
        "              if valid.pop() != pairs[symbol]:\n",
        "                return False\n",
        "          else:\n",
        "            valid.append(symbol)\n",
        "        return (len(valid) == 0)"
      ]
    },
    {
      "cell_type": "code",
      "source": [
        "sol = Solution()\n",
        "sol.isValid(s = \"()[]{}\")"
      ],
      "metadata": {
        "colab": {
          "base_uri": "https://localhost:8080/"
        },
        "id": "Ozj3B46DhwyD",
        "outputId": "2b0c0e79-9fef-4976-abe4-d3cc09d68dbc"
      },
      "execution_count": 32,
      "outputs": [
        {
          "output_type": "execute_result",
          "data": {
            "text/plain": [
              "True"
            ]
          },
          "metadata": {},
          "execution_count": 32
        }
      ]
    }
  ]
}