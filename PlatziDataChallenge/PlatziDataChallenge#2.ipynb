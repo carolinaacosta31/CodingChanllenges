{
 "cells": [
  {
   "cell_type": "code",
   "execution_count": 1,
   "metadata": {},
   "outputs": [],
   "source": [
    "import os\n",
    "import pandas as pd\n",
    "import matplotlib.pyplot as plt"
   ]
  },
  {
   "cell_type": "markdown",
   "metadata": {},
   "source": [
    "## Python Questions from Stack Overflow\n",
    "Full text of Stack Overflow Q&A about the Python programming language.\n",
    "\n",
    "From [Kaggle](https://www.kaggle.com/stackoverflow/pythonquestions)"
   ]
  },
  {
   "cell_type": "code",
   "execution_count": 2,
   "metadata": {},
   "outputs": [
    {
     "data": {
      "text/plain": [
       "['Questions.csv', 'Tags.csv']"
      ]
     },
     "execution_count": 2,
     "metadata": {},
     "output_type": "execute_result"
    }
   ],
   "source": [
    "path = '/home/caro/Desktop/cursosPlatzi/PlatziDataChallenge/PDC2'\n",
    "\n",
    "files = os.listdir(path)\n",
    "files_list = [f for f in files if f.endswith('.csv')]\n",
    "files_list"
   ]
  },
  {
   "cell_type": "code",
   "execution_count": 3,
   "metadata": {
    "scrolled": true
   },
   "outputs": [
    {
     "data": {
      "text/plain": [
       "(1885078, 2)"
      ]
     },
     "execution_count": 3,
     "metadata": {},
     "output_type": "execute_result"
    }
   ],
   "source": [
    "df1 = pd.DataFrame() #Questions\n",
    "for trozo in pd.read_csv(files_list[1], chunksize=1000, encoding = 'latin1'):\n",
    "    df1 = pd.concat([df1,trozo])\n",
    "df1.shape"
   ]
  },
  {
   "cell_type": "code",
   "execution_count": 4,
   "metadata": {},
   "outputs": [
    {
     "data": {
      "text/plain": [
       "(607282, 6)"
      ]
     },
     "execution_count": 4,
     "metadata": {},
     "output_type": "execute_result"
    }
   ],
   "source": [
    "df2 = pd.DataFrame() #Tags\n",
    "for trozo in pd.read_csv(files_list[0], chunksize=1000, encoding = 'latin1'):\n",
    "    df2 = pd.concat([df2,trozo])\n",
    "df2.shape"
   ]
  },
  {
   "cell_type": "code",
   "execution_count": 6,
   "metadata": {},
   "outputs": [
    {
     "data": {
      "text/plain": [
       "(1885078, 7)"
      ]
     },
     "execution_count": 6,
     "metadata": {},
     "output_type": "execute_result"
    }
   ],
   "source": [
    "df_tot = df1.merge(df2, how = 'outer', on='Id')\n",
    "df_tot.shape\n"
   ]
  },
  {
   "cell_type": "markdown",
   "metadata": {},
   "source": [
    "## 1. Total number of users in the Questions dataset "
   ]
  },
  {
   "cell_type": "code",
   "execution_count": 7,
   "metadata": {},
   "outputs": [
    {
     "data": {
      "text/plain": [
       "213927"
      ]
     },
     "execution_count": 7,
     "metadata": {},
     "output_type": "execute_result"
    }
   ],
   "source": [
    "df_tot['OwnerUserId'].nunique()"
   ]
  },
  {
   "cell_type": "markdown",
   "metadata": {},
   "source": [
    "## 2. Total number of Tags in the Questions dataset"
   ]
  },
  {
   "cell_type": "code",
   "execution_count": 8,
   "metadata": {
    "scrolled": true
   },
   "outputs": [
    {
     "data": {
      "text/plain": [
       "16895"
      ]
     },
     "execution_count": 8,
     "metadata": {},
     "output_type": "execute_result"
    }
   ],
   "source": [
    "df_tot['Tag'].nunique()"
   ]
  },
  {
   "cell_type": "markdown",
   "metadata": {},
   "source": [
    "## 3. Total number of Questions in the dataset"
   ]
  },
  {
   "cell_type": "code",
   "execution_count": 9,
   "metadata": {},
   "outputs": [
    {
     "data": {
      "text/plain": [
       "607283"
      ]
     },
     "execution_count": 9,
     "metadata": {},
     "output_type": "execute_result"
    }
   ],
   "source": [
    "df_tot['Id'].nunique()"
   ]
  },
  {
   "cell_type": "markdown",
   "metadata": {},
   "source": [
    "## 4. Top ten of tags in the Questions dataset"
   ]
  },
  {
   "cell_type": "code",
   "execution_count": 10,
   "metadata": {},
   "outputs": [
    {
     "data": {
      "text/plain": [
       "Tag\n",
       "django        62818\n",
       "python-2.7    34616\n",
       "pandas        26854\n",
       "python-3.x    26814\n",
       "numpy         25848\n",
       "list          18951\n",
       "matplotlib    16521\n",
       "regex         14047\n",
       "dictionary    13413\n",
       "tkinter       10766\n",
       "Name: Tag, dtype: int64"
      ]
     },
     "execution_count": 10,
     "metadata": {},
     "output_type": "execute_result"
    }
   ],
   "source": [
    "df_tot.groupby('Tag')['Tag'].count().sort_values(ascending=False)[1:11]"
   ]
  },
  {
   "cell_type": "markdown",
   "metadata": {},
   "source": [
    "## 5. Top ten of Questions with highest scores"
   ]
  },
  {
   "cell_type": "code",
   "execution_count": 11,
   "metadata": {},
   "outputs": [
    {
     "data": {
      "text/html": [
       "<div>\n",
       "<style scoped>\n",
       "    .dataframe tbody tr th:only-of-type {\n",
       "        vertical-align: middle;\n",
       "    }\n",
       "\n",
       "    .dataframe tbody tr th {\n",
       "        vertical-align: top;\n",
       "    }\n",
       "\n",
       "    .dataframe thead th {\n",
       "        text-align: right;\n",
       "    }\n",
       "</style>\n",
       "<table border=\"1\" class=\"dataframe\">\n",
       "  <thead>\n",
       "    <tr style=\"text-align: right;\">\n",
       "      <th></th>\n",
       "      <th>Id</th>\n",
       "      <th>OwnerUserId</th>\n",
       "      <th>CreationDate</th>\n",
       "      <th>Score</th>\n",
       "      <th>Title</th>\n",
       "      <th>Body</th>\n",
       "    </tr>\n",
       "  </thead>\n",
       "  <tbody>\n",
       "    <tr>\n",
       "      <th>962</th>\n",
       "      <td>231767</td>\n",
       "      <td>18300.0</td>\n",
       "      <td>2008-10-23T22:21:11Z</td>\n",
       "      <td>5524</td>\n",
       "      <td>What does the \"yield\" keyword do?</td>\n",
       "      <td>&lt;p&gt;What is the use of the &lt;code&gt;yield&lt;/code&gt; k...</td>\n",
       "    </tr>\n",
       "    <tr>\n",
       "      <th>334</th>\n",
       "      <td>100003</td>\n",
       "      <td>9951.0</td>\n",
       "      <td>2008-09-19T06:10:46Z</td>\n",
       "      <td>3219</td>\n",
       "      <td>What is a metaclass in Python?</td>\n",
       "      <td>&lt;p&gt;What are metaclasses? What do you use them ...</td>\n",
       "    </tr>\n",
       "    <tr>\n",
       "      <th>291</th>\n",
       "      <td>82831</td>\n",
       "      <td>15616.0</td>\n",
       "      <td>2008-09-17T12:55:00Z</td>\n",
       "      <td>2729</td>\n",
       "      <td>How do I check whether a file exists using Pyt...</td>\n",
       "      <td>&lt;p&gt;How do I check whether a file exists, witho...</td>\n",
       "    </tr>\n",
       "    <tr>\n",
       "      <th>1874</th>\n",
       "      <td>394809</td>\n",
       "      <td>51518.0</td>\n",
       "      <td>2008-12-27T08:32:18Z</td>\n",
       "      <td>2655</td>\n",
       "      <td>Does Python have a ternary conditional operator?</td>\n",
       "      <td>&lt;p&gt;If Python does not have a ternary condition...</td>\n",
       "    </tr>\n",
       "    <tr>\n",
       "      <th>306</th>\n",
       "      <td>89228</td>\n",
       "      <td>17085.0</td>\n",
       "      <td>2008-09-18T01:35:30Z</td>\n",
       "      <td>2312</td>\n",
       "      <td>Calling an external command in Python</td>\n",
       "      <td>&lt;p&gt;How can I call an external command (as if I...</td>\n",
       "    </tr>\n",
       "    <tr>\n",
       "      <th>2018</th>\n",
       "      <td>419163</td>\n",
       "      <td>51518.0</td>\n",
       "      <td>2009-01-07T04:11:00Z</td>\n",
       "      <td>2184</td>\n",
       "      <td>What does `if __name__ == \"__main__\":` do?</td>\n",
       "      <td>&lt;p&gt;What does the &lt;code&gt;if __name__ == \"__main_...</td>\n",
       "    </tr>\n",
       "    <tr>\n",
       "      <th>4086</th>\n",
       "      <td>739654</td>\n",
       "      <td>1897.0</td>\n",
       "      <td>2009-04-11T07:05:31Z</td>\n",
       "      <td>1920</td>\n",
       "      <td>How to make a chain of function decorators in ...</td>\n",
       "      <td>&lt;p&gt;How can I make two decorators in Python tha...</td>\n",
       "    </tr>\n",
       "    <tr>\n",
       "      <th>116</th>\n",
       "      <td>38987</td>\n",
       "      <td>3207.0</td>\n",
       "      <td>2008-09-02T07:44:30Z</td>\n",
       "      <td>1867</td>\n",
       "      <td>How to merge two Python dictionaries in a sing...</td>\n",
       "      <td>&lt;p&gt;I have two Python dictionaries, and I want ...</td>\n",
       "    </tr>\n",
       "    <tr>\n",
       "      <th>3216</th>\n",
       "      <td>613183</td>\n",
       "      <td>2786.0</td>\n",
       "      <td>2009-03-05T00:49:05Z</td>\n",
       "      <td>1837</td>\n",
       "      <td>Sort a Python dictionary by value</td>\n",
       "      <td>&lt;p&gt;I have a dictionary of values read from two...</td>\n",
       "    </tr>\n",
       "    <tr>\n",
       "      <th>1175</th>\n",
       "      <td>273192</td>\n",
       "      <td>13055.0</td>\n",
       "      <td>2008-11-07T18:56:45Z</td>\n",
       "      <td>1739</td>\n",
       "      <td>How to check if a directory exists and create ...</td>\n",
       "      <td>&lt;p&gt;What is the most elegant way to check if th...</td>\n",
       "    </tr>\n",
       "  </tbody>\n",
       "</table>\n",
       "</div>"
      ],
      "text/plain": [
       "          Id  OwnerUserId          CreationDate  Score  \\\n",
       "962   231767      18300.0  2008-10-23T22:21:11Z   5524   \n",
       "334   100003       9951.0  2008-09-19T06:10:46Z   3219   \n",
       "291    82831      15616.0  2008-09-17T12:55:00Z   2729   \n",
       "1874  394809      51518.0  2008-12-27T08:32:18Z   2655   \n",
       "306    89228      17085.0  2008-09-18T01:35:30Z   2312   \n",
       "2018  419163      51518.0  2009-01-07T04:11:00Z   2184   \n",
       "4086  739654       1897.0  2009-04-11T07:05:31Z   1920   \n",
       "116    38987       3207.0  2008-09-02T07:44:30Z   1867   \n",
       "3216  613183       2786.0  2009-03-05T00:49:05Z   1837   \n",
       "1175  273192      13055.0  2008-11-07T18:56:45Z   1739   \n",
       "\n",
       "                                                  Title  \\\n",
       "962                   What does the \"yield\" keyword do?   \n",
       "334                      What is a metaclass in Python?   \n",
       "291   How do I check whether a file exists using Pyt...   \n",
       "1874   Does Python have a ternary conditional operator?   \n",
       "306               Calling an external command in Python   \n",
       "2018         What does `if __name__ == \"__main__\":` do?   \n",
       "4086  How to make a chain of function decorators in ...   \n",
       "116   How to merge two Python dictionaries in a sing...   \n",
       "3216                  Sort a Python dictionary by value   \n",
       "1175  How to check if a directory exists and create ...   \n",
       "\n",
       "                                                   Body  \n",
       "962   <p>What is the use of the <code>yield</code> k...  \n",
       "334   <p>What are metaclasses? What do you use them ...  \n",
       "291   <p>How do I check whether a file exists, witho...  \n",
       "1874  <p>If Python does not have a ternary condition...  \n",
       "306   <p>How can I call an external command (as if I...  \n",
       "2018  <p>What does the <code>if __name__ == \"__main_...  \n",
       "4086  <p>How can I make two decorators in Python tha...  \n",
       "116   <p>I have two Python dictionaries, and I want ...  \n",
       "3216  <p>I have a dictionary of values read from two...  \n",
       "1175  <p>What is the most elegant way to check if th...  "
      ]
     },
     "execution_count": 11,
     "metadata": {},
     "output_type": "execute_result"
    }
   ],
   "source": [
    "df2.sort_values('Score',ascending=False).head(10)"
   ]
  },
  {
   "cell_type": "markdown",
   "metadata": {},
   "source": [
    "## 6. Tags of the top 10 questions with highest scores"
   ]
  },
  {
   "cell_type": "code",
   "execution_count": 12,
   "metadata": {},
   "outputs": [
    {
     "data": {
      "text/plain": [
       "Tag\n",
       "python                  10\n",
       "dictionary               2\n",
       "idioms                   2\n",
       "yield                    1\n",
       "iterator                 1\n",
       "conditional-operator     1\n",
       "coroutine                1\n",
       "decorator                1\n",
       "directory                1\n",
       "exception                1\n",
       "expression               1\n",
       "external                 1\n",
       "file                     1\n",
       "filesystems              1\n",
       "generator                1\n",
       "main                     1\n",
       "ternary-operator         1\n",
       "mapping                  1\n",
       "metaclass                1\n",
       "module                   1\n",
       "namespaces               1\n",
       "oop                      1\n",
       "operators                1\n",
       "python-2.5               1\n",
       "python-datamodel         1\n",
       "python-decorators        1\n",
       "shell                    1\n",
       "sorting                  1\n",
       "subprocess               1\n",
       "command                  1\n",
       "Name: Tag, dtype: int64"
      ]
     },
     "execution_count": 12,
     "metadata": {},
     "output_type": "execute_result"
    }
   ],
   "source": [
    "df_tot[df_tot['Score']>1700].groupby('Tag')['Tag'].count().sort_values(ascending=False)"
   ]
  },
  {
   "cell_type": "markdown",
   "metadata": {},
   "source": [
    "## 7. Top 10 of Tags with highest scores"
   ]
  },
  {
   "cell_type": "code",
   "execution_count": 13,
   "metadata": {
    "scrolled": true
   },
   "outputs": [
    {
     "data": {
      "text/plain": [
       "Tag\n",
       "django        116416.0\n",
       "numpy          67737.0\n",
       "list           60352.0\n",
       "pandas         51380.0\n",
       "string         46363.0\n",
       "python-3.x     44465.0\n",
       "python-2.7     42602.0\n",
       "matplotlib     42090.0\n",
       "dictionary     39003.0\n",
       "pip            25354.0\n",
       "Name: Score, dtype: float64"
      ]
     },
     "execution_count": 13,
     "metadata": {},
     "output_type": "execute_result"
    }
   ],
   "source": [
    "df_tot.groupby('Tag')['Score'].sum().sort_values(ascending=False)[1:11]"
   ]
  },
  {
   "cell_type": "markdown",
   "metadata": {},
   "source": [
    "## 8. Top 10 of users with highest scores"
   ]
  },
  {
   "cell_type": "code",
   "execution_count": 14,
   "metadata": {
    "scrolled": true
   },
   "outputs": [
    {
     "data": {
      "text/plain": [
       "OwnerUserId\n",
       "51816.0     7414\n",
       "9951.0      5770\n",
       "18300.0     5568\n",
       "46646.0     5073\n",
       "51518.0     4956\n",
       "179736.0    4184\n",
       "4872.0      4095\n",
       "4766.0      3458\n",
       "15055.0     3144\n",
       "76701.0     3022\n",
       "Name: Score, dtype: int64"
      ]
     },
     "execution_count": 14,
     "metadata": {},
     "output_type": "execute_result"
    }
   ],
   "source": [
    "df2.groupby('OwnerUserId')['Score'].sum().sort_values(ascending=False).head(10)"
   ]
  },
  {
   "cell_type": "markdown",
   "metadata": {},
   "source": [
    "## 9. Top 10 of users with lowest scores"
   ]
  },
  {
   "cell_type": "code",
   "execution_count": 15,
   "metadata": {},
   "outputs": [
    {
     "data": {
      "text/plain": [
       "OwnerUserId\n",
       "2955338.0   -44\n",
       "4674272.0   -34\n",
       "4212189.0   -21\n",
       "5194936.0   -18\n",
       "4864486.0   -18\n",
       "5476930.0   -17\n",
       "5430566.0   -17\n",
       "6014650.0   -17\n",
       "6288320.0   -16\n",
       "3968268.0   -16\n",
       "Name: Score, dtype: int64"
      ]
     },
     "execution_count": 15,
     "metadata": {},
     "output_type": "execute_result"
    }
   ],
   "source": [
    "df2.groupby('OwnerUserId')['Score'].sum().sort_values(ascending=True).head(10)"
   ]
  },
  {
   "cell_type": "markdown",
   "metadata": {},
   "source": [
    "## 10. Top 10 of users with more Questions"
   ]
  },
  {
   "cell_type": "code",
   "execution_count": 16,
   "metadata": {},
   "outputs": [
    {
     "data": {
      "text/plain": [
       "OwnerUserId\n",
       "651174.0     643\n",
       "179736.0     489\n",
       "283296.0     375\n",
       "3371056.0    354\n",
       "610569.0     348\n",
       "1107049.0    344\n",
       "308827.0     341\n",
       "578822.0     314\n",
       "248237.0     294\n",
       "1592380.0    291\n",
       "Name: OwnerUserId, dtype: int64"
      ]
     },
     "execution_count": 16,
     "metadata": {},
     "output_type": "execute_result"
    }
   ],
   "source": [
    "df2.groupby('OwnerUserId')['OwnerUserId'].count().sort_values(ascending=False).head(10)"
   ]
  }
 ],
 "metadata": {
  "kernelspec": {
   "display_name": "Python 3",
   "language": "python",
   "name": "python3"
  },
  "language_info": {
   "codemirror_mode": {
    "name": "ipython",
    "version": 3
   },
   "file_extension": ".py",
   "mimetype": "text/x-python",
   "name": "python",
   "nbconvert_exporter": "python",
   "pygments_lexer": "ipython3",
   "version": "3.8.3"
  }
 },
 "nbformat": 4,
 "nbformat_minor": 4
}
