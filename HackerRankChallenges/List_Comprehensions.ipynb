{
  "nbformat": 4,
  "nbformat_minor": 0,
  "metadata": {
    "colab": {
      "name": "List Comprehensions.ipynb",
      "provenance": [],
      "authorship_tag": "ABX9TyOgG3a3VWzJOPF1H40QcYW0",
      "include_colab_link": true
    },
    "kernelspec": {
      "name": "python3",
      "display_name": "Python 3"
    }
  },
  "cells": [
    {
      "cell_type": "markdown",
      "metadata": {
        "id": "view-in-github",
        "colab_type": "text"
      },
      "source": [
        "<a href=\"https://colab.research.google.com/github/carolinaacosta31/CodingChanllenges/blob/master/HackerRankChallenges/List_Comprehensions.ipynb\" target=\"_parent\"><img src=\"https://colab.research.google.com/assets/colab-badge.svg\" alt=\"Open In Colab\"/></a>"
      ]
    },
    {
      "cell_type": "markdown",
      "metadata": {
        "id": "wyZrxel_i2ix"
      },
      "source": [
        "[List Comprehensions](https://https://www.hackerrank.com/challenges/list-comprehensions/problem) challenge in HackerRank\n",
        "\n"
      ]
    },
    {
      "cell_type": "code",
      "metadata": {
        "id": "sH3rkm9Eirqi"
      },
      "source": [
        "if __name__ == '__main__':\n",
        "    x = int(input())\n",
        "    y = int(input())\n",
        "    z = int(input())\n",
        "    n = int(input())\n",
        "    \n",
        "    print([[i,j,k] for i in range(x+1) for j in range(y+1)for k in range(z+1) if i+j+k != n])"
      ],
      "execution_count": null,
      "outputs": []
    }
  ]
}