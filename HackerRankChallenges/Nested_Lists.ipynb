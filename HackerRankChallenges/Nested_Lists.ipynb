{
  "nbformat": 4,
  "nbformat_minor": 0,
  "metadata": {
    "colab": {
      "name": "Nested Lists.ipynb",
      "provenance": [],
      "authorship_tag": "ABX9TyOioCTlRtikqiFGvrWvhfWN",
      "include_colab_link": true
    },
    "kernelspec": {
      "name": "python3",
      "display_name": "Python 3"
    }
  },
  "cells": [
    {
      "cell_type": "markdown",
      "metadata": {
        "id": "view-in-github",
        "colab_type": "text"
      },
      "source": [
        "<a href=\"https://colab.research.google.com/github/carolinaacosta31/CodingChanllenges/blob/master/HackerRankChallenges/Nested_Lists.ipynb\" target=\"_parent\"><img src=\"https://colab.research.google.com/assets/colab-badge.svg\" alt=\"Open In Colab\"/></a>"
      ]
    },
    {
      "cell_type": "markdown",
      "metadata": {
        "id": "wyZrxel_i2ix"
      },
      "source": [
        "[Nested Lists](https://www.hackerrank.com/challenges/nested-list/problem) challenge in HackerRank\n",
        "\n"
      ]
    },
    {
      "cell_type": "code",
      "metadata": {
        "colab": {
          "base_uri": "https://localhost:8080/"
        },
        "id": "sH3rkm9Eirqi",
        "outputId": "f05c35f6-7507-4ff7-bfcb-32e0225a09ba"
      },
      "source": [
        "if __name__ == '__main__':\n",
        "    records = []\n",
        "    for _ in range(int(input())):\n",
        "        name = input()\n",
        "        score = float(input())\n",
        "        records.append([name,score])\n",
        "\n",
        "    print('\\nOutput:')\n",
        "    print('\\n'.join(name for name,score in sorted(records) if score == sorted(set(dict(records).values()))[1])) "
      ],
      "execution_count": 7,
      "outputs": [
        {
          "output_type": "stream",
          "text": [
            "5\n",
            "Harry\n",
            "37.21\n",
            "Berry\n",
            "37.21\n",
            "Tina\n",
            "37.2\n",
            "Akriti\n",
            "41\n",
            "Harsh\n",
            "39\n",
            "\n",
            "Output:\n",
            "Berry\n",
            "Harry\n"
          ],
          "name": "stdout"
        }
      ]
    }
  ]
}