{
  "nbformat": 4,
  "nbformat_minor": 0,
  "metadata": {
    "colab": {
      "name": "Basic Data Types Challenges.ipynb",
      "provenance": [],
      "collapsed_sections": [],
      "authorship_tag": "ABX9TyMILYorNdoyger7r8ZALTm8",
      "include_colab_link": true
    },
    "kernelspec": {
      "name": "python3",
      "display_name": "Python 3"
    }
  },
  "cells": [
    {
      "cell_type": "markdown",
      "metadata": {
        "id": "view-in-github",
        "colab_type": "text"
      },
      "source": [
        "<a href=\"https://colab.research.google.com/github/carolinaacosta31/CodingChanllenges/blob/master/HackerRankChallenges/Basic_Data_Types_Challenges.ipynb\" target=\"_parent\"><img src=\"https://colab.research.google.com/assets/colab-badge.svg\" alt=\"Open In Colab\"/></a>"
      ]
    },
    {
      "cell_type": "markdown",
      "metadata": {
        "id": "wyZrxel_i2ix"
      },
      "source": [
        "## [Finding the percentage](https://www.hackerrank.com/challenges/finding-the-percentage/problem) challenge in HackerRank\n",
        "\n"
      ]
    },
    {
      "cell_type": "code",
      "metadata": {
        "colab": {
          "base_uri": "https://localhost:8080/"
        },
        "id": "sH3rkm9Eirqi",
        "outputId": "454219ce-0303-4abc-f0a6-4d05c8e4bb60"
      },
      "source": [
        "if __name__ == '__main__':\n",
        "    n = int(input())\n",
        "    student_marks = {}\n",
        "    for _ in range(n):\n",
        "        name, *line = input().split()\n",
        "        scores = list(map(float, line))\n",
        "        student_marks[name] = scores\n",
        "    query_name = input()\n",
        "\n",
        "    print('{:0.2f}'.format(sum(student_marks[query_name])/len(student_marks[query_name]),2) )"
      ],
      "execution_count": 1,
      "outputs": [
        {
          "output_type": "stream",
          "text": [
            "3\n",
            "Krishna 67 68 69\n",
            "Arjun 70 98 63\n",
            "Malika 52 56 60\n",
            "Malika\n",
            "56.00\n"
          ],
          "name": "stdout"
        }
      ]
    },
    {
      "cell_type": "markdown",
      "metadata": {
        "id": "fN28P7hbwcEb"
      },
      "source": [
        "## [Lists](https://www.hackerrank.com/challenges/python-lists/problem) challenge in HackerRank\n"
      ]
    },
    {
      "cell_type": "code",
      "metadata": {
        "colab": {
          "base_uri": "https://localhost:8080/"
        },
        "id": "LtjMcPO2wgmd",
        "outputId": "f6395c5f-c742-4421-c3a9-38c1efca86c9"
      },
      "source": [
        "if __name__ == '__main__':\n",
        "    N = int(input())\n",
        "    my_list = []\n",
        "    for _ in range(N):\n",
        "        command, *my_input = input().split()\n",
        "        input_list = list(map(int, my_input))\n",
        "        if command == 'insert':\n",
        "          my_list.insert(input_list[0],input_list[1])\n",
        "        elif command == 'print':\n",
        "          print(my_list)\n",
        "        elif command == 'remove':\n",
        "          my_list.remove(input_list[0])\n",
        "        elif command == 'append':\n",
        "          my_list.append(input_list[0])\n",
        "        elif command == 'sort':\n",
        "          my_list.sort()\n",
        "        elif command == 'pop':\n",
        "          my_list.pop()\n",
        "        elif command == 'reverse':\n",
        "          my_list.reverse()\n",
        "        "
      ],
      "execution_count": 7,
      "outputs": [
        {
          "output_type": "stream",
          "text": [
            "12\n",
            "insert 0 5\n",
            "insert 1 10\n",
            "insert 0 6\n",
            "print\n",
            "[6, 5, 10]\n",
            "remove 6\n",
            "append 9\n",
            "append 1\n",
            "sort\n",
            "print\n",
            "[1, 5, 9, 10]\n",
            "pop\n",
            "reverse\n",
            "print\n",
            "[9, 5, 1]\n"
          ],
          "name": "stdout"
        }
      ]
    },
    {
      "cell_type": "code",
      "metadata": {
        "id": "8395jBZ1zcaB"
      },
      "source": [
        ""
      ],
      "execution_count": null,
      "outputs": []
    }
  ]
}